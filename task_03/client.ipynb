{
 "cells": [
  {
   "cell_type": "markdown",
   "metadata": {},
   "source": [
    "## Client Side Program"
   ]
  },
  {
   "cell_type": "code",
   "execution_count": null,
   "metadata": {},
   "outputs": [],
   "source": [
    "# Import Modules\n",
    "import socket\n",
    "import urllib\n",
    "import pickle\n",
    "import numpy as np\n",
    "import cv2\n",
    "\n",
    "# # Replace the URL with your own IP Webcam App IP:port\n",
    "url = 'http://192.168.43.1:8080/shot.jpg'\n",
    "\n",
    "# Use ipv4 family & TCP protocol\n",
    "s = socket.socket(socket.AF_INET,socket.SOCK_STREAM)\n",
    "ip=\"192.168.43.67\"\n",
    "port=1228\n",
    "\n",
    "# Connect to Server\n",
    "s.connect((ip,port))\n",
    "\n",
    "while True:\n",
    "    # Receive data from server\n",
    "    x = s.recv(1000000)\n",
    "    print(\"Recieved...\")\n",
    "    \n",
    "    # Use urllib to get the image from the mobile camera\n",
    "    imgResp=urllib.request.urlopen(url)\n",
    "\n",
    "    # Use Numpy to convert into an array\n",
    "    imgNp=np.array(bytearray(imgResp.read()),dtype=np.uint8)\n",
    "        \n",
    "    # Decode the array to make it OpenCV usable format\n",
    "    img=cv2.imdecode(imgNp,-1)\n",
    "    \n",
    "    # Rehape the image size\n",
    "    img = cv2.resize(img,(700,500))\n",
    "    \n",
    "    # Encode Image in memory buffer\n",
    "    ret, buffer = cv2.imencode('.jpg',img)\n",
    "    \n",
    "    # Conerting data into byte stream\n",
    "    bytedata = pickle.dumps(buffer)\n",
    "    \n",
    "    # Sending data to Server\n",
    "    s.send(bytedata)\n",
    "    try:\n",
    "        # Convert byte stream into object hierarchy\n",
    "        data = pickle.loads(x)\n",
    "        # Decode the code to read\n",
    "        data = cv2.imdecode(data,cv2.IMREAD_COLOR)\n",
    "        if data is not None :\n",
    "            # Showing Server Data\n",
    "            cv2.imshow('Server Content',data)\n",
    "            if cv2.waitKey(10) == 13 :\n",
    "                break\n",
    "    except: \n",
    "        print(\"Waiting for the server!\")\n",
    "     \n",
    "cv2.destroyAllWindows()"
   ]
  },
  {
   "cell_type": "code",
   "execution_count": null,
   "metadata": {},
   "outputs": [],
   "source": []
  },
  {
   "cell_type": "code",
   "execution_count": null,
   "metadata": {},
   "outputs": [],
   "source": []
  }
 ],
 "metadata": {
  "kernelspec": {
   "display_name": "Python 3",
   "language": "python",
   "name": "python3"
  },
  "language_info": {
   "codemirror_mode": {
    "name": "ipython",
    "version": 3
   },
   "file_extension": ".py",
   "mimetype": "text/x-python",
   "name": "python",
   "nbconvert_exporter": "python",
   "pygments_lexer": "ipython3",
   "version": "3.8.3"
  }
 },
 "nbformat": 4,
 "nbformat_minor": 4
}
