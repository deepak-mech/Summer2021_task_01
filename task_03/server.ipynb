{
 "cells": [
  {
   "cell_type": "markdown",
   "metadata": {},
   "source": [
    "## Server Side Program"
   ]
  },
  {
   "cell_type": "code",
   "execution_count": null,
   "metadata": {},
   "outputs": [
    {
     "name": "stdout",
     "output_type": "stream",
     "text": [
      "Binded\n",
      "Listening...\n",
      "Connected to ('192.168.43.67', 60915)\n"
     ]
    }
   ],
   "source": [
    "# Import Modules\n",
    "import socket\n",
    "import pickle\n",
    "import cv2\n",
    "import threading\n",
    "\n",
    "# Connect webcam with code\n",
    "cap = cv2.VideoCapture(0)\n",
    "\n",
    "# Use ipv4 family & TCP protocol\n",
    "s = socket.socket(socket.AF_INET,socket.SOCK_STREAM)\n",
    "ip= \"192.168.43.67\"\n",
    "port=1228\n",
    "\n",
    "# Bind Socket\n",
    "s.bind((ip,port))\n",
    "print(\"Binded\")\n",
    "\n",
    "# Port Listening\n",
    "s.listen()\n",
    "print(\"Listening...\")\n",
    "\n",
    "# Establish connection\n",
    "o , addr = s.accept()\n",
    "print(\"Connected to {}\".format(addr))\n",
    "\n",
    "# Send data as images\n",
    "while True:\n",
    "    # Click the image\n",
    "    ret , photo = cap.read()\n",
    "    \n",
    "    # Encode Image in memory buffer\n",
    "    ret, buffer = cv2.imencode('.jpg',photo)\n",
    "    \n",
    "    # Conerting data into byte stream\n",
    "    bytedata = pickle.dumps(buffer)\n",
    "    \n",
    "    # Sending data to client\n",
    "    o.send(bytedata)\n",
    "    \n",
    "    # Data rercieved from Client\n",
    "    recv_data = o.recv(1000000)\n",
    "    \n",
    "    # Using try-except \n",
    "    try:\n",
    "        # Convert byte stream into object hierarchy\n",
    "        data = pickle.loads(recv_data)\n",
    "        \n",
    "        # Decode the code to read\n",
    "        data = cv2.imdecode(data,cv2.IMREAD_COLOR)\n",
    "        if data is not None:        \n",
    "            # Showing Client Data\n",
    "            cv2.imshow('Client Content',data)\n",
    "            if cv2.waitKey(10) == 13:\n",
    "                break\n",
    "    except: \n",
    "        print(\"Waiting for the client!\")\n",
    "        \n",
    "cv2.destroyAllWindows()\n",
    "cap.release()\n"
   ]
  },
  {
   "cell_type": "code",
   "execution_count": null,
   "metadata": {},
   "outputs": [],
   "source": []
  },
  {
   "cell_type": "code",
   "execution_count": null,
   "metadata": {},
   "outputs": [],
   "source": []
  }
 ],
 "metadata": {
  "kernelspec": {
   "display_name": "Python 3",
   "language": "python",
   "name": "python3"
  },
  "language_info": {
   "codemirror_mode": {
    "name": "ipython",
    "version": 3
   },
   "file_extension": ".py",
   "mimetype": "text/x-python",
   "name": "python",
   "nbconvert_exporter": "python",
   "pygments_lexer": "ipython3",
   "version": "3.8.3"
  }
 },
 "nbformat": 4,
 "nbformat_minor": 4
}
